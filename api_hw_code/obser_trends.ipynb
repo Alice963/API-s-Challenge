{
 "cells": [
  {
   "cell_type": "code",
   "execution_count": 9,
   "metadata": {},
   "outputs": [
    {
     "name": "stdout",
     "output_type": "stream",
     "text": [
      "Written description of three observable trends based on the Data \n"
     ]
    }
   ],
   "source": [
    "print(f'Written description of three observable trends based on the Data ')"
   ]
  },
  {
   "cell_type": "code",
   "execution_count": 10,
   "metadata": {},
   "outputs": [
    {
     "name": "stdout",
     "output_type": "stream",
     "text": [
      " 1.Temperature was higher at the latitude -30 with 80 degrees Fareheit. However temperature was decreasing as the latitude increases. \n"
     ]
    }
   ],
   "source": [
    "print(f' 1.Temperature was higher at the latitude -30 with 80 degrees Fareheit. However temperature was decreasing as the latitude increases. ')"
   ]
  },
  {
   "cell_type": "code",
   "execution_count": 11,
   "metadata": {},
   "outputs": [
    {
     "name": "stdout",
     "output_type": "stream",
     "text": [
      "2.In Northeren Hemisphere ,Humidity for most of the places is between 80 and 100 whose latitude is between 50 and 70.\n"
     ]
    }
   ],
   "source": [
    "print(f'2.In Northeren Hemisphere ,Humidity for most of the places is between 80 and 100 whose latitude is between 50 and 70.')"
   ]
  },
  {
   "cell_type": "code",
   "execution_count": 12,
   "metadata": {},
   "outputs": [
    {
     "name": "stdout",
     "output_type": "stream",
     "text": [
      " 3.In Southern Hemisphere places which are located between -20 degree and 0 degree Latitude  are observed to be more cloudiness around 100 units.\n"
     ]
    }
   ],
   "source": [
    "print(f' 3.In Southern Hemisphere places which are located between -20 degree and 0 degree Latitude  are observed to be more cloudiness around 100 units.')"
   ]
  },
  {
   "cell_type": "code",
   "execution_count": null,
   "metadata": {},
   "outputs": [],
   "source": []
  }
 ],
 "metadata": {
  "kernelspec": {
   "display_name": "Python 3",
   "language": "python",
   "name": "python3"
  },
  "language_info": {
   "codemirror_mode": {
    "name": "ipython",
    "version": 3
   },
   "file_extension": ".py",
   "mimetype": "text/x-python",
   "name": "python",
   "nbconvert_exporter": "python",
   "pygments_lexer": "ipython3",
   "version": "3.8.5"
  }
 },
 "nbformat": 4,
 "nbformat_minor": 4
}
