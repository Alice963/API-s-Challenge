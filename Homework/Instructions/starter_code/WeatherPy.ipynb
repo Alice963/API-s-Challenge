{
 "cells": [
  {
   "cell_type": "markdown",
   "metadata": {},
   "source": [
    "# WeatherPy\n",
    "----\n",
    "\n",
    "#### Note\n",
    "* Instructions have been included for each segment. You do not have to follow them exactly, but they are included to help you think through the steps."
   ]
  },
  {
   "cell_type": "code",
   "execution_count": 5,
   "metadata": {
    "scrolled": true
   },
   "outputs": [],
   "source": [
    "# Dependencies and Setup\n",
    "import matplotlib.pyplot as plt\n",
    "import pandas as pd\n",
    "import numpy as np\n",
    "import requests\n",
    "import time\n",
    "from scipy.stats import linregress\n",
    "from pprint import pprint\n",
    "\n",
    "# Import API key\n",
    "from api_keys import weather_api_key\n",
    "\n",
    "# Incorporated citipy to determine city based on latitude and longitude\n",
    "from citipy import citipy\n",
    "\n",
    "# Output File (CSV)\n",
    "output_data_file = \"output_data/cities.csv\"\n",
    "\n",
    "# Range of latitudes and longitudes\n",
    "lat_range = (-90, 90)\n",
    "lng_range = (-180, 180)"
   ]
  },
  {
   "cell_type": "markdown",
   "metadata": {},
   "source": [
    "## Generate Cities List"
   ]
  },
  {
   "cell_type": "code",
   "execution_count": 6,
   "metadata": {},
   "outputs": [
    {
     "data": {
      "text/plain": [
       "632"
      ]
     },
     "execution_count": 6,
     "metadata": {},
     "output_type": "execute_result"
    }
   ],
   "source": [
    "# List for holding lat_lngs and cities\n",
    "lat_lngs = []\n",
    "cities = []\n",
    "\n",
    "# Create a set of random lat and lng combinations\n",
    "lats = np.random.uniform(lat_range[0], lat_range[1], size=1500)\n",
    "lngs = np.random.uniform(lng_range[0], lng_range[1], size=1500)\n",
    "lat_lngs = zip(lats, lngs)\n",
    "\n",
    "# Identify nearest city for each lat, lng combination\n",
    "for lat_lng in lat_lngs:\n",
    "    city = citipy.nearest_city(lat_lng[0], lat_lng[1]).city_name\n",
    "    \n",
    "    # If the city is unique, then add it to a our cities list\n",
    "    if city not in cities:\n",
    "        cities.append(city)\n",
    "\n",
    "# Print the city count to confirm sufficient count\n",
    "len(cities)"
   ]
  },
  {
   "cell_type": "code",
   "execution_count": 7,
   "metadata": {},
   "outputs": [],
   "source": [
    "city_name_list = []\n",
    "cloudiness_list = []\n",
    "country_list = []\n",
    "date_list = []\n",
    "humidity_list = []\n",
    "lat_list = []\n",
    "lng_list = []\n",
    "max_temp_list = []\n",
    "wind_speed_list = []\n",
    "index_counter = 0\n",
    "set_counter = 1\n"
   ]
  },
  {
   "cell_type": "markdown",
   "metadata": {},
   "source": [
    "### Convert Raw Data to DataFrame\n",
    "* Export the city data into a .csv.\n",
    "* Display the DataFrame"
   ]
  },
  {
   "cell_type": "code",
   "execution_count": 8,
   "metadata": {},
   "outputs": [
    {
     "name": "stdout",
     "output_type": "stream",
     "text": [
      "Beginning Data Retrieval \n",
      "-----------------------------\n",
      "Processing Record 1 of Set 1 : port alfred\n",
      "City not found. Skipping...\n",
      "Processing Record 2 of Set 1 : san patricio\n",
      "City not found. Skipping...\n",
      "Processing Record 3 of Set 1 : kaitangata\n",
      "Processing Record 4 of Set 1 : cedar city\n",
      "Processing Record 5 of Set 1 : san isidro\n",
      "Processing Record 6 of Set 1 : atuona\n",
      "City not found. Skipping...\n",
      "Processing Record 7 of Set 1 : zhuhai\n",
      "Processing Record 8 of Set 1 : thompson\n",
      "Processing Record 9 of Set 1 : barrow\n",
      "Processing Record 10 of Set 1 : nemuro\n",
      "Processing Record 11 of Set 1 : tiksi\n",
      "Processing Record 12 of Set 1 : avarua\n",
      "Processing Record 13 of Set 1 : severo-kurilsk\n",
      "Processing Record 14 of Set 1 : basoko\n",
      "City not found. Skipping...\n",
      "Processing Record 15 of Set 1 : hermanus\n",
      "Processing Record 16 of Set 1 : taoudenni\n",
      "Processing Record 17 of Set 1 : bengkulu\n",
      "Processing Record 18 of Set 1 : qaanaaq\n",
      "Processing Record 19 of Set 1 : massaguet\n",
      "Processing Record 20 of Set 1 : luderitz\n",
      "Processing Record 21 of Set 1 : mataura\n",
      "Processing Record 22 of Set 1 : karratha\n",
      "Processing Record 23 of Set 1 : rikitea\n",
      "Processing Record 24 of Set 1 : caceres\n",
      "Processing Record 25 of Set 1 : bluff\n",
      "Processing Record 26 of Set 1 : upernavik\n",
      "City not found. Skipping...\n",
      "Processing Record 27 of Set 1 : cooma\n",
      "Processing Record 28 of Set 1 : khatanga\n",
      "Processing Record 29 of Set 1 : mount isa\n",
      "City not found. Skipping...\n",
      "Processing Record 30 of Set 1 : carnarvon\n",
      "Processing Record 31 of Set 1 : ponta do sol\n",
      "Processing Record 32 of Set 1 : simplicio mendes\n",
      "Processing Record 33 of Set 1 : vaini\n",
      "Processing Record 34 of Set 1 : yurla\n",
      "Processing Record 35 of Set 1 : paita\n",
      "Processing Record 36 of Set 1 : esperance\n",
      "City not found. Skipping...\n",
      "Processing Record 37 of Set 1 : hobart\n",
      "Processing Record 38 of Set 1 : punto fijo\n",
      "Processing Record 39 of Set 1 : vestmannaeyjar\n",
      "Processing Record 40 of Set 1 : georgetown\n",
      "Processing Record 41 of Set 1 : punta arenas\n",
      "Processing Record 42 of Set 1 : nanortalik\n",
      "Processing Record 43 of Set 1 : mayumba\n",
      "Processing Record 44 of Set 1 : tres picos\n",
      "Processing Record 45 of Set 1 : hilo\n",
      "Processing Record 46 of Set 1 : mollendo\n",
      "Processing Record 47 of Set 1 : bratsk\n",
      "Processing Record 48 of Set 1 : jutai\n",
      "Processing Record 49 of Set 1 : carroll\n",
      "Processing Record 50 of Set 1 : helsinge\n",
      "Processing Record 0 of Set 2 : mwinilunga\n",
      "Processing Record 1 of Set 2 : saint anthony\n",
      "Processing Record 2 of Set 2 : beyneu\n",
      "Processing Record 3 of Set 2 : mackay\n",
      "Processing Record 4 of Set 2 : igrim\n",
      "Processing Record 5 of Set 2 : zvishavane\n",
      "Processing Record 6 of Set 2 : cabo san lucas\n",
      "Processing Record 7 of Set 2 : kapaa\n",
      "Processing Record 8 of Set 2 : sheregesh\n",
      "Processing Record 9 of Set 2 : pochutla\n",
      "Processing Record 10 of Set 2 : boa vista\n",
      "Processing Record 11 of Set 2 : xam nua\n",
      "Processing Record 12 of Set 2 : balta\n",
      "Processing Record 13 of Set 2 : airai\n",
      "Processing Record 14 of Set 2 : el alto\n",
      "Processing Record 15 of Set 2 : grindavik\n",
      "Processing Record 16 of Set 2 : kupang\n",
      "City not found. Skipping...\n",
      "Processing Record 17 of Set 2 : sibolga\n",
      "Processing Record 18 of Set 2 : busselton\n",
      "Processing Record 19 of Set 2 : lavrentiya\n",
      "Processing Record 20 of Set 2 : hamilton\n",
      "Processing Record 21 of Set 2 : pevek\n",
      "Processing Record 22 of Set 2 : normandin\n",
      "Processing Record 23 of Set 2 : butaritari\n",
      "City not found. Skipping...\n",
      "Processing Record 24 of Set 2 : oranjemund\n",
      "Processing Record 25 of Set 2 : bredasdorp\n",
      "Processing Record 26 of Set 2 : mo i rana\n",
      "Processing Record 27 of Set 2 : puerto ayora\n",
      "Processing Record 28 of Set 2 : lagos\n",
      "Processing Record 29 of Set 2 : demyansk\n",
      "City not found. Skipping...\n",
      "Processing Record 30 of Set 2 : kununurra\n",
      "Processing Record 31 of Set 2 : tigzirt\n",
      "Processing Record 32 of Set 2 : kavaratti\n",
      "Processing Record 33 of Set 2 : kodiak\n",
      "Processing Record 34 of Set 2 : vardo\n",
      "Processing Record 35 of Set 2 : nikolskoye\n",
      "Processing Record 36 of Set 2 : faya\n",
      "Processing Record 37 of Set 2 : kruisfontein\n",
      "Processing Record 38 of Set 2 : lotofaga\n",
      "Processing Record 39 of Set 2 : chuy\n",
      "Processing Record 40 of Set 2 : port blair\n",
      "Processing Record 41 of Set 2 : voskresenskoye\n",
      "Processing Record 42 of Set 2 : dicabisagan\n",
      "Processing Record 43 of Set 2 : byron bay\n",
      "Processing Record 44 of Set 2 : biryusinsk\n",
      "Processing Record 45 of Set 2 : port macquarie\n",
      "Processing Record 46 of Set 2 : kirakira\n",
      "Processing Record 47 of Set 2 : ajdabiya\n",
      "Processing Record 48 of Set 2 : isangel\n",
      "Processing Record 49 of Set 2 : castro\n",
      "Processing Record 50 of Set 2 : vila franca do campo\n",
      "Processing Record 0 of Set 3 : jamestown\n",
      "Processing Record 1 of Set 3 : puerto escondido\n",
      "Processing Record 2 of Set 3 : itarema\n",
      "Processing Record 3 of Set 3 : hualmay\n",
      "Processing Record 4 of Set 3 : sao felix do xingu\n",
      "Processing Record 5 of Set 3 : hithadhoo\n",
      "Processing Record 6 of Set 3 : new norfolk\n",
      "Processing Record 7 of Set 3 : norman wells\n",
      "Processing Record 8 of Set 3 : lebu\n",
      "Processing Record 9 of Set 3 : coihaique\n",
      "Processing Record 10 of Set 3 : saint-philippe\n",
      "Processing Record 11 of Set 3 : fukue\n",
      "Processing Record 12 of Set 3 : zaragoza\n",
      "Processing Record 13 of Set 3 : monastyrshchina\n",
      "Processing Record 14 of Set 3 : batagay-alyta\n",
      "Processing Record 15 of Set 3 : awbari\n",
      "City not found. Skipping...\n",
      "Processing Record 16 of Set 3 : dengzhou\n",
      "Processing Record 17 of Set 3 : killarney\n",
      "Processing Record 18 of Set 3 : quatre cocos\n",
      "Processing Record 19 of Set 3 : tura\n",
      "Processing Record 20 of Set 3 : labuhan\n",
      "Processing Record 21 of Set 3 : port lincoln\n",
      "Processing Record 22 of Set 3 : ushuaia\n",
      "Processing Record 23 of Set 3 : south venice\n",
      "Processing Record 24 of Set 3 : flin flon\n",
      "Processing Record 25 of Set 3 : asyut\n",
      "Processing Record 26 of Set 3 : bethel\n",
      "Processing Record 27 of Set 3 : bahile\n",
      "Processing Record 28 of Set 3 : ribeira grande\n",
      "Processing Record 29 of Set 3 : mareeba\n",
      "Processing Record 30 of Set 3 : saldanha\n",
      "Processing Record 31 of Set 3 : dikson\n",
      "Processing Record 32 of Set 3 : albany\n",
      "Processing Record 33 of Set 3 : roald\n",
      "Processing Record 34 of Set 3 : chadiza\n",
      "City not found. Skipping...\n",
      "Processing Record 35 of Set 3 : garachine\n",
      "Processing Record 36 of Set 3 : tautira\n",
      "Processing Record 37 of Set 3 : morondava\n",
      "Processing Record 38 of Set 3 : corinto\n",
      "City not found. Skipping...\n",
      "Processing Record 39 of Set 3 : cape town\n",
      "Processing Record 40 of Set 3 : aklavik\n",
      "Processing Record 41 of Set 3 : maine-soroa\n",
      "Processing Record 42 of Set 3 : athabasca\n",
      "Processing Record 43 of Set 3 : ketchikan\n",
      "Processing Record 44 of Set 3 : pouembout\n",
      "Processing Record 45 of Set 3 : turan\n",
      "Processing Record 46 of Set 3 : aljezur\n",
      "Processing Record 47 of Set 3 : winnemucca\n",
      "Processing Record 48 of Set 3 : paris\n",
      "Processing Record 49 of Set 3 : kavieng\n",
      "Processing Record 50 of Set 3 : guerrero negro\n",
      "Processing Record 0 of Set 4 : umea\n",
      "Processing Record 1 of Set 4 : tuy hoa\n",
      "Processing Record 2 of Set 4 : bentiu\n",
      "Processing Record 3 of Set 4 : las palmas\n",
      "Processing Record 4 of Set 4 : galle\n",
      "City not found. Skipping...\n",
      "Processing Record 5 of Set 4 : teya\n",
      "Processing Record 6 of Set 4 : torbay\n",
      "Processing Record 7 of Set 4 : srednekolymsk\n",
      "Processing Record 8 of Set 4 : korla\n",
      "Processing Record 9 of Set 4 : rio grande\n",
      "Processing Record 10 of Set 4 : belfast\n",
      "Processing Record 11 of Set 4 : san cosme y damian\n",
      "Processing Record 12 of Set 4 : tuktoyaktuk\n",
      "Processing Record 13 of Set 4 : lensk\n",
      "City not found. Skipping...\n",
      "Processing Record 14 of Set 4 : poum\n",
      "Processing Record 15 of Set 4 : katsuura\n",
      "City not found. Skipping...\n",
      "Processing Record 16 of Set 4 : fortuna\n",
      "City not found. Skipping...\n",
      "Processing Record 17 of Set 4 : qarchi gak\n",
      "Processing Record 18 of Set 4 : ler\n",
      "Processing Record 19 of Set 4 : half moon bay\n",
      "Processing Record 20 of Set 4 : fukuma\n",
      "Processing Record 21 of Set 4 : yellowknife\n",
      "Processing Record 22 of Set 4 : mpanda\n",
      "Processing Record 23 of Set 4 : qurayyat\n",
      "Processing Record 24 of Set 4 : tasiilaq\n",
      "Processing Record 25 of Set 4 : meridian\n",
      "Processing Record 26 of Set 4 : luau\n",
      "Processing Record 27 of Set 4 : nikel\n",
      "Processing Record 28 of Set 4 : dudinka\n",
      "Processing Record 29 of Set 4 : dunedin\n",
      "Processing Record 30 of Set 4 : gravdal\n",
      "Processing Record 31 of Set 4 : merced\n",
      "Processing Record 32 of Set 4 : iwanai\n",
      "Processing Record 33 of Set 4 : bonthe\n",
      "Processing Record 34 of Set 4 : adilabad\n",
      "Processing Record 35 of Set 4 : longyearbyen\n",
      "Processing Record 36 of Set 4 : uribia\n",
      "Processing Record 37 of Set 4 : troitsko-pechorsk\n",
      "Processing Record 38 of Set 4 : saint george\n",
      "Processing Record 39 of Set 4 : crotone\n",
      "Processing Record 40 of Set 4 : sisimiut\n",
      "Processing Record 41 of Set 4 : quang ngai\n",
      "Processing Record 42 of Set 4 : inirida\n",
      "Processing Record 43 of Set 4 : porto novo\n",
      "Processing Record 44 of Set 4 : mar del plata\n",
      "Processing Record 45 of Set 4 : nhulunbuy\n",
      "Processing Record 46 of Set 4 : mahebourg\n",
      "Processing Record 47 of Set 4 : lorengau\n",
      "City not found. Skipping...\n",
      "Processing Record 48 of Set 4 : acarau\n",
      "Processing Record 49 of Set 4 : abu samrah\n",
      "Processing Record 50 of Set 4 : pangnirtung\n",
      "Processing Record 0 of Set 5 : otaru\n",
      "Processing Record 1 of Set 5 : san juan\n",
      "Processing Record 2 of Set 5 : arraial do cabo\n",
      "Processing Record 3 of Set 5 : comodoro rivadavia\n",
      "City not found. Skipping...\n",
      "Processing Record 4 of Set 5 : zhigansk\n",
      "Processing Record 5 of Set 5 : pine bluff\n",
      "Processing Record 6 of Set 5 : bambous virieux\n",
      "Processing Record 7 of Set 5 : pipri\n",
      "Processing Record 8 of Set 5 : thinadhoo\n",
      "Processing Record 9 of Set 5 : carauari\n",
      "City not found. Skipping...\n",
      "Processing Record 10 of Set 5 : maragogi\n",
      "Processing Record 11 of Set 5 : aripuana\n",
      "Processing Record 12 of Set 5 : mehamn\n",
      "Processing Record 13 of Set 5 : chapais\n",
      "Processing Record 14 of Set 5 : san carlos de bariloche\n",
      "Processing Record 15 of Set 5 : goderich\n",
      "Processing Record 16 of Set 5 : port pirie\n",
      "Processing Record 17 of Set 5 : novobelokatay\n",
      "Processing Record 18 of Set 5 : victoria\n",
      "City not found. Skipping...\n",
      "Processing Record 19 of Set 5 : riyadh\n",
      "Processing Record 20 of Set 5 : mascote\n",
      "Processing Record 21 of Set 5 : namibe\n",
      "Processing Record 22 of Set 5 : soddy-daisy\n",
      "Processing Record 23 of Set 5 : nuevo progreso\n",
      "Processing Record 24 of Set 5 : ostrovnoy\n",
      "Processing Record 25 of Set 5 : taltal\n",
      "Processing Record 26 of Set 5 : ust-karsk\n",
      "Processing Record 27 of Set 5 : whitehorse\n",
      "Processing Record 28 of Set 5 : faanui\n",
      "Processing Record 29 of Set 5 : leningradskiy\n",
      "Processing Record 30 of Set 5 : cockburn town\n",
      "Processing Record 31 of Set 5 : muros\n",
      "Processing Record 32 of Set 5 : zirl\n",
      "Processing Record 33 of Set 5 : iqaluit\n",
      "Processing Record 34 of Set 5 : chongwe\n",
      "Processing Record 35 of Set 5 : pandan\n",
      "Processing Record 36 of Set 5 : port elizabeth\n",
      "Processing Record 37 of Set 5 : saskylakh\n",
      "Processing Record 38 of Set 5 : port augusta\n",
      "Processing Record 39 of Set 5 : coos bay\n",
      "Processing Record 40 of Set 5 : tomohon\n",
      "Processing Record 41 of Set 5 : bandar-e lengeh\n",
      "City not found. Skipping...\n",
      "Processing Record 42 of Set 5 : riohacha\n",
      "Processing Record 43 of Set 5 : talnakh\n",
      "Processing Record 44 of Set 5 : tazovskiy\n",
      "City not found. Skipping...\n",
      "Processing Record 45 of Set 5 : praia\n",
      "Processing Record 46 of Set 5 : constitucion\n",
      "Processing Record 47 of Set 5 : turukhansk\n",
      "Processing Record 48 of Set 5 : high level\n",
      "Processing Record 49 of Set 5 : abnub\n",
      "Processing Record 50 of Set 5 : cidreira\n",
      "Processing Record 0 of Set 6 : hambantota\n",
      "Processing Record 1 of Set 6 : alakurtti\n",
      "Processing Record 2 of Set 6 : sompeta\n",
      "Processing Record 3 of Set 6 : north bend\n",
      "Processing Record 4 of Set 6 : lakes entrance\n",
      "Processing Record 5 of Set 6 : trat\n",
      "Processing Record 6 of Set 6 : zabol\n",
      "Processing Record 7 of Set 6 : te anau\n",
      "Processing Record 8 of Set 6 : eureka\n",
      "Processing Record 9 of Set 6 : kloulklubed\n",
      "Processing Record 10 of Set 6 : kaeo\n",
      "Processing Record 11 of Set 6 : ayan\n",
      "Processing Record 12 of Set 6 : thunder bay\n",
      "City not found. Skipping...\n",
      "Processing Record 13 of Set 6 : lasa\n",
      "City not found. Skipping...\n",
      "Processing Record 14 of Set 6 : oriximina\n",
      "Processing Record 15 of Set 6 : kozhva\n",
      "Processing Record 16 of Set 6 : wanning\n",
      "City not found. Skipping...\n",
      "Processing Record 17 of Set 6 : vila velha\n",
      "Processing Record 18 of Set 6 : envira\n",
      "Processing Record 19 of Set 6 : voh\n",
      "Processing Record 20 of Set 6 : seymchan\n",
      "Processing Record 21 of Set 6 : tongliao\n",
      "Processing Record 22 of Set 6 : visby\n",
      "Processing Record 23 of Set 6 : tucurui\n",
      "Processing Record 24 of Set 6 : urusha\n",
      "Processing Record 25 of Set 6 : rushden\n",
      "Processing Record 26 of Set 6 : umm lajj\n",
      "Processing Record 27 of Set 6 : khandyga\n",
      "Processing Record 28 of Set 6 : saint-francois\n",
      "Processing Record 29 of Set 6 : san policarpo\n",
      "City not found. Skipping...\n",
      "Processing Record 30 of Set 6 : masuda\n",
      "Processing Record 31 of Set 6 : merke\n",
      "Processing Record 32 of Set 6 : bageshwar\n",
      "Processing Record 33 of Set 6 : ancud\n",
      "Processing Record 34 of Set 6 : ada\n",
      "Processing Record 35 of Set 6 : beira\n",
      "Processing Record 36 of Set 6 : havre-saint-pierre\n",
      "Processing Record 37 of Set 6 : sioux lookout\n",
      "Processing Record 38 of Set 6 : chokwe\n",
      "Processing Record 39 of Set 6 : lompoc\n",
      "Processing Record 40 of Set 6 : provideniya\n",
      "Processing Record 41 of Set 6 : borova\n",
      "Processing Record 42 of Set 6 : champerico\n",
      "Processing Record 43 of Set 6 : shenjiamen\n",
      "Processing Record 44 of Set 6 : trinidad\n",
      "Processing Record 45 of Set 6 : bilma\n",
      "City not found. Skipping...\n",
      "City not found. Skipping...\n",
      "Processing Record 46 of Set 6 : kyabe\n",
      "Processing Record 47 of Set 6 : wasilla\n",
      "Processing Record 48 of Set 6 : pucallpa\n",
      "Processing Record 49 of Set 6 : erice\n",
      "Processing Record 50 of Set 6 : lincoln\n",
      "Processing Record 0 of Set 7 : husavik\n",
      "Processing Record 1 of Set 7 : toora-khem\n",
      "Processing Record 2 of Set 7 : meadville\n",
      "Processing Record 3 of Set 7 : kijang\n",
      "City not found. Skipping...\n",
      "Processing Record 4 of Set 7 : port hedland\n",
      "Processing Record 5 of Set 7 : san pedro\n",
      "Processing Record 6 of Set 7 : florida\n",
      "Processing Record 7 of Set 7 : adana\n",
      "City not found. Skipping...\n",
      "Processing Record 8 of Set 7 : tabou\n",
      "Processing Record 9 of Set 7 : healesville\n",
      "Processing Record 10 of Set 7 : chitrakonda\n",
      "Processing Record 11 of Set 7 : flinders\n",
      "Processing Record 12 of Set 7 : baherden\n",
      "Processing Record 13 of Set 7 : sangar\n",
      "Processing Record 14 of Set 7 : mao\n",
      "Processing Record 15 of Set 7 : kurilsk\n",
      "Processing Record 16 of Set 7 : ambon\n",
      "Processing Record 17 of Set 7 : fairbanks\n",
      "Processing Record 18 of Set 7 : mizdah\n",
      "Processing Record 19 of Set 7 : namasuba\n",
      "Processing Record 20 of Set 7 : mezen\n",
      "Processing Record 21 of Set 7 : hami\n",
      "Processing Record 22 of Set 7 : katangli\n",
      "Processing Record 23 of Set 7 : lahaina\n",
      "Processing Record 24 of Set 7 : andenes\n",
      "City not found. Skipping...\n",
      "Processing Record 25 of Set 7 : tukan\n",
      "Processing Record 26 of Set 7 : akureyri\n",
      "Processing Record 27 of Set 7 : vao\n",
      "Processing Record 28 of Set 7 : ailigandi\n",
      "Processing Record 29 of Set 7 : ponta delgada\n",
      "Processing Record 30 of Set 7 : olafsvik\n",
      "Processing Record 31 of Set 7 : tuatapere\n",
      "Processing Record 32 of Set 7 : farmington\n",
      "Processing Record 33 of Set 7 : santa lucia\n",
      "Processing Record 34 of Set 7 : marica\n",
      "Processing Record 35 of Set 7 : chokurdakh\n",
      "Processing Record 36 of Set 7 : westport\n",
      "Processing Record 37 of Set 7 : pizarro\n",
      "Processing Record 38 of Set 7 : padang\n",
      "Processing Record 39 of Set 7 : bosaso\n",
      "City not found. Skipping...\n",
      "Processing Record 40 of Set 7 : tucuman\n",
      "Processing Record 41 of Set 7 : tomra\n",
      "Processing Record 42 of Set 7 : omaruru\n",
      "Processing Record 43 of Set 7 : sabha\n",
      "Processing Record 44 of Set 7 : los llanos de aridane\n",
      "Processing Record 45 of Set 7 : cherskiy\n",
      "Processing Record 46 of Set 7 : meulaboh\n",
      "Processing Record 47 of Set 7 : san andres\n",
      "Processing Record 48 of Set 7 : kirkwall\n",
      "Processing Record 49 of Set 7 : baykit\n",
      "Processing Record 50 of Set 7 : dingle\n",
      "Processing Record 0 of Set 8 : chanute\n",
      "Processing Record 1 of Set 8 : alice springs\n",
      "City not found. Skipping...\n",
      "Processing Record 2 of Set 8 : denpasar\n",
      "Processing Record 3 of Set 8 : nyurba\n",
      "Processing Record 4 of Set 8 : arlit\n",
      "Processing Record 5 of Set 8 : darhan\n",
      "Processing Record 6 of Set 8 : hasaki\n",
      "City not found. Skipping...\n",
      "Processing Record 7 of Set 8 : inuvik\n",
      "Processing Record 8 of Set 8 : aksarka\n",
      "Processing Record 9 of Set 8 : lima\n",
      "Processing Record 10 of Set 8 : kutum\n",
      "Processing Record 11 of Set 8 : maniitsoq\n",
      "Processing Record 12 of Set 8 : shasta lake\n",
      "Processing Record 13 of Set 8 : krasnoselkup\n",
      "Processing Record 14 of Set 8 : omsukchan\n",
      "City not found. Skipping...\n",
      "Processing Record 15 of Set 8 : phalaborwa\n",
      "Processing Record 16 of Set 8 : iquique\n",
      "Processing Record 17 of Set 8 : nakhon si thammarat\n",
      "Processing Record 18 of Set 8 : hofn\n",
      "Processing Record 19 of Set 8 : salinas\n",
      "Processing Record 20 of Set 8 : azangaro\n",
      "Processing Record 21 of Set 8 : seguin\n",
      "City not found. Skipping...\n",
      "Processing Record 22 of Set 8 : lagoa\n",
      "Processing Record 23 of Set 8 : campina verde\n",
      "Processing Record 24 of Set 8 : ilulissat\n",
      "Processing Record 25 of Set 8 : deputatskiy\n",
      "Processing Record 26 of Set 8 : aswan\n",
      "Processing Record 27 of Set 8 : les cayes\n",
      "Processing Record 28 of Set 8 : ginda\n",
      "Processing Record 29 of Set 8 : tiarei\n",
      "Processing Record 30 of Set 8 : awjilah\n",
      "Processing Record 31 of Set 8 : necochea\n",
      "Processing Record 32 of Set 8 : kudahuvadhoo\n",
      "Processing Record 33 of Set 8 : sorland\n",
      "Processing Record 34 of Set 8 : harper\n",
      "Processing Record 35 of Set 8 : narsaq\n",
      "Processing Record 36 of Set 8 : adrar\n",
      "Processing Record 37 of Set 8 : gerash\n",
      "Processing Record 38 of Set 8 : ritchie\n",
      "Processing Record 39 of Set 8 : coahuayana\n",
      "Processing Record 40 of Set 8 : neuquen\n",
      "Processing Record 41 of Set 8 : polunochnoye\n",
      "Processing Record 42 of Set 8 : bemidji\n",
      "Processing Record 43 of Set 8 : lianzhou\n",
      "Processing Record 44 of Set 8 : vestmanna\n",
      "Processing Record 45 of Set 8 : sarangani\n",
      "Processing Record 46 of Set 8 : bonoua\n",
      "City not found. Skipping...\n",
      "Processing Record 47 of Set 8 : port-gentil\n",
      "Processing Record 48 of Set 8 : hede\n",
      "Processing Record 49 of Set 8 : pingliang\n",
      "Processing Record 50 of Set 8 : kaseda\n",
      "City not found. Skipping...\n",
      "City not found. Skipping...\n",
      "Processing Record 0 of Set 9 : noyabrsk\n",
      "Processing Record 1 of Set 9 : murgab\n",
      "Processing Record 2 of Set 9 : yerbogachen\n",
      "Processing Record 3 of Set 9 : rzhev\n",
      "Processing Record 4 of Set 9 : sergeyevka\n",
      "Processing Record 5 of Set 9 : ayagoz\n",
      "Processing Record 6 of Set 9 : gaomi\n",
      "Processing Record 7 of Set 9 : sao gabriel da cachoeira\n",
      "Processing Record 8 of Set 9 : salalah\n",
      "Processing Record 9 of Set 9 : sao filipe\n",
      "Processing Record 10 of Set 9 : starominskaya\n",
      "City not found. Skipping...\n",
      "Processing Record 11 of Set 9 : aykhal\n",
      "Processing Record 12 of Set 9 : east millcreek\n",
      "Processing Record 13 of Set 9 : east london\n",
      "Processing Record 14 of Set 9 : sindor\n",
      "Processing Record 15 of Set 9 : rawson\n",
      "Processing Record 16 of Set 9 : miraflores\n",
      "Processing Record 17 of Set 9 : klyuchi\n",
      "Processing Record 18 of Set 9 : gonen\n",
      "Processing Record 19 of Set 9 : general roca\n",
      "Processing Record 20 of Set 9 : baghdad\n",
      "Processing Record 21 of Set 9 : antofagasta\n",
      "Processing Record 22 of Set 9 : sitka\n",
      "Processing Record 23 of Set 9 : zasheyek\n",
      "Processing Record 24 of Set 9 : mutsu\n",
      "Processing Record 25 of Set 9 : san felipe\n",
      "City not found. Skipping...\n",
      "Processing Record 26 of Set 9 : balvi\n",
      "Processing Record 27 of Set 9 : angoram\n",
      "Processing Record 28 of Set 9 : valle de allende\n",
      "Processing Record 29 of Set 9 : batemans bay\n",
      "Processing Record 30 of Set 9 : saint-joseph\n",
      "Processing Record 31 of Set 9 : shingu\n",
      "Processing Record 32 of Set 9 : muzhi\n",
      "Processing Record 33 of Set 9 : san quintin\n",
      "Processing Record 34 of Set 9 : aquiraz\n",
      "City not found. Skipping...\n",
      "Processing Record 35 of Set 9 : la orilla\n",
      "Processing Record 36 of Set 9 : emerald\n",
      "Processing Record 37 of Set 9 : pasni\n",
      "Processing Record 38 of Set 9 : severo-yeniseyskiy\n",
      "Processing Record 39 of Set 9 : ahipara\n",
      "Processing Record 40 of Set 9 : gizo\n",
      "Processing Record 41 of Set 9 : mount pleasant\n",
      "Processing Record 42 of Set 9 : margate\n",
      "Processing Record 43 of Set 9 : umm kaddadah\n",
      "Processing Record 44 of Set 9 : vanavara\n",
      "Processing Record 45 of Set 9 : rafai\n",
      "Processing Record 46 of Set 9 : tacna\n",
      "Processing Record 47 of Set 9 : naze\n",
      "Processing Record 48 of Set 9 : saint-louis\n",
      "Processing Record 49 of Set 9 : gunjur\n",
      "Processing Record 50 of Set 9 : klaksvik\n",
      "Processing Record 0 of Set 10 : west bay\n",
      "Processing Record 1 of Set 10 : juegang\n",
      "Processing Record 2 of Set 10 : bagdarin\n",
      "City not found. Skipping...\n",
      "Processing Record 3 of Set 10 : port hawkesbury\n",
      "Processing Record 4 of Set 10 : mount gambier\n",
      "Processing Record 5 of Set 10 : okhotsk\n",
      "Processing Record 6 of Set 10 : jackson\n",
      "Processing Record 7 of Set 10 : la ronge\n",
      "City not found. Skipping...\n",
      "Processing Record 8 of Set 10 : svetlyy\n",
      "Processing Record 9 of Set 10 : verkhniye kigi\n",
      "Processing Record 10 of Set 10 : haverfordwest\n",
      "Processing Record 11 of Set 10 : buckeye\n",
      "Processing Record 12 of Set 10 : ngunguru\n",
      "Processing Record 13 of Set 10 : santa cruz\n",
      "Processing Record 14 of Set 10 : sindou\n",
      "Processing Record 15 of Set 10 : nouakchott\n",
      "City not found. Skipping...\n",
      "Processing Record 16 of Set 10 : gold coast\n",
      "Processing Record 17 of Set 10 : clyde river\n",
      "Processing Record 18 of Set 10 : christchurch\n",
      "Processing Record 19 of Set 10 : fethiye\n",
      "Processing Record 20 of Set 10 : minna\n",
      "Processing Record 21 of Set 10 : berlevag\n",
      "Processing Record 22 of Set 10 : codrington\n",
      "Processing Record 23 of Set 10 : sakakah\n",
      "City not found. Skipping...\n",
      "City not found. Skipping...\n",
      "Processing Record 24 of Set 10 : palencia\n",
      "Processing Record 25 of Set 10 : alekseyevsk\n",
      "Processing Record 26 of Set 10 : richards bay\n",
      "Processing Record 27 of Set 10 : launceston\n",
      "Processing Record 28 of Set 10 : sorbhog\n",
      "Processing Record 29 of Set 10 : batagay\n",
      "City not found. Skipping...\n",
      "Processing Record 30 of Set 10 : gladstone\n",
      "Processing Record 31 of Set 10 : fomboni\n",
      "Processing Record 32 of Set 10 : yuancheng\n",
      "Processing Record 33 of Set 10 : svetlogorsk\n",
      "Processing Record 34 of Set 10 : haines junction\n",
      "City not found. Skipping...\n",
      "Processing Record 35 of Set 10 : beckley\n",
      "Processing Record 36 of Set 10 : acapulco\n",
      "Processing Record 37 of Set 10 : doha\n",
      "Processing Record 38 of Set 10 : shihezi\n",
      "Processing Record 39 of Set 10 : moyale\n",
      "Processing Record 40 of Set 10 : moerai\n",
      "Processing Record 41 of Set 10 : shibetsu\n",
      "City not found. Skipping...\n",
      "Processing Record 42 of Set 10 : paamiut\n",
      "Processing Record 43 of Set 10 : pag\n",
      "Processing Record 44 of Set 10 : maneadero\n",
      "Processing Record 45 of Set 10 : athni\n",
      "Processing Record 46 of Set 10 : krasnovishersk\n",
      "Processing Record 47 of Set 10 : san ramon\n",
      "Processing Record 48 of Set 10 : bacolod\n",
      "Processing Record 49 of Set 10 : souillac\n",
      "Processing Record 50 of Set 10 : tiznit\n",
      "Processing Record 0 of Set 11 : catemaco\n",
      "Processing Record 1 of Set 11 : tete\n",
      "Processing Record 2 of Set 11 : skovorodino\n",
      "Processing Record 3 of Set 11 : aksu\n",
      "Processing Record 4 of Set 11 : rabo de peixe\n",
      "Processing Record 5 of Set 11 : namatanai\n",
      "Processing Record 6 of Set 11 : porecatu\n",
      "Processing Record 7 of Set 11 : avera\n",
      "Processing Record 8 of Set 11 : lata\n",
      "Processing Record 9 of Set 11 : raudeberg\n",
      "Processing Record 10 of Set 11 : lyngdal\n",
      "City not found. Skipping...\n",
      "Processing Record 11 of Set 11 : roebourne\n",
      "Processing Record 12 of Set 11 : atbasar\n",
      "Processing Record 13 of Set 11 : samborondon\n",
      "Processing Record 14 of Set 11 : majene\n",
      "Processing Record 15 of Set 11 : ravar\n",
      "Processing Record 16 of Set 11 : otane\n",
      "Processing Record 17 of Set 11 : griffith\n",
      "Processing Record 18 of Set 11 : davila\n",
      "Processing Record 19 of Set 11 : shevchenkove\n",
      "Processing Record 20 of Set 11 : pesochnoye\n",
      "Processing Record 21 of Set 11 : ahtopol\n",
      "Processing Record 22 of Set 11 : viedma\n",
      "Processing Record 23 of Set 11 : haverhill\n",
      "Processing Record 24 of Set 11 : dana point\n",
      "Processing Record 25 of Set 11 : sierra vista\n",
      "Processing Record 26 of Set 11 : jafarpur\n",
      "Processing Record 27 of Set 11 : jalingo\n",
      "Processing Record 28 of Set 11 : ust-kulom\n",
      "Processing Record 29 of Set 11 : beringovskiy\n",
      "Processing Record 30 of Set 11 : poso\n",
      "Processing Record 31 of Set 11 : marawi\n",
      "Processing Record 32 of Set 11 : zhangjiakou\n",
      "Processing Record 33 of Set 11 : fergus falls\n",
      "Processing Record 34 of Set 11 : bani walid\n",
      "Processing Record 35 of Set 11 : sinnamary\n",
      "Processing Record 36 of Set 11 : tambopata\n",
      "Processing Record 37 of Set 11 : erzin\n",
      "Processing Record 38 of Set 11 : sao raimundo das mangabeiras\n",
      "Processing Record 39 of Set 11 : hay river\n",
      "Processing Record 40 of Set 11 : burlington\n",
      "Processing Record 41 of Set 11 : skibbereen\n",
      "Processing Record 42 of Set 11 : alofi\n",
      "Processing Record 43 of Set 11 : soto la marina\n",
      "Processing Record 44 of Set 11 : nome\n",
      "Processing Record 45 of Set 11 : dali\n",
      "Processing Record 46 of Set 11 : louga\n",
      "Processing Record 47 of Set 11 : maceio\n",
      "City not found. Skipping...\n",
      "Processing Record 48 of Set 11 : takoradi\n",
      "Processing Record 49 of Set 11 : aliwal north\n",
      "Processing Record 50 of Set 11 : henties bay\n",
      "Processing Record 0 of Set 12 : northam\n",
      "Processing Record 1 of Set 12 : doka\n",
      "City not found. Skipping...\n",
      "Processing Record 2 of Set 12 : galesong\n",
      "Processing Record 3 of Set 12 : penzance\n",
      "Processing Record 4 of Set 12 : marystown\n",
      "Processing Record 5 of Set 12 : krasnyy yar\n",
      "Processing Record 6 of Set 12 : cayenne\n",
      "Processing Record 7 of Set 12 : brigantine\n",
      "Processing Record 8 of Set 12 : moron\n",
      "Processing Record 9 of Set 12 : geraldton\n",
      "Processing Record 10 of Set 12 : nagato\n",
      "Processing Record 11 of Set 12 : mogadishu\n",
      "Processing Record 12 of Set 12 : hibbing\n",
      "Processing Record 13 of Set 12 : bandarbeyla\n",
      "Processing Record 14 of Set 12 : marsassoum\n",
      "Processing Record 15 of Set 12 : hobyo\n",
      "Processing Record 16 of Set 12 : pasighat\n",
      "Processing Record 17 of Set 12 : puebloviejo\n",
      "-----------------------------\n",
      "Data Retrieval Complete\n",
      "-----------------------------\n"
     ]
    }
   ],
   "source": [
    "print(\"Beginning Data Retrieval \")\n",
    "print(\"-----------------------------\")\n",
    "\n",
    "base_url = \"http://api.openweathermap.org/data/2.5/weather?\"\n",
    "units = \"imperial\"\n",
    "query_url = f\"{base_url}appid={weather_api_key}&units={units}&q=\"\n",
    "cities[:10]\n",
    "# For each city name in cities list, do below things...\n",
    "for index, city in enumerate(cities, start = 1):\n",
    "    try:\n",
    "        response = requests.get(query_url + city).json()\n",
    "        city_name_list.append(response[\"name\"])\n",
    "        cloudiness_list.append(response[\"clouds\"][\"all\"])\n",
    "        country_list.append(response[\"sys\"][\"country\"])\n",
    "        date_list.append(response[\"dt\"])\n",
    "        humidity_list.append(response[\"main\"][\"humidity\"])\n",
    "        lat_list.append(response[\"coord\"][\"lat\"])\n",
    "        lng_list.append(response[\"coord\"][\"lon\"])\n",
    "        max_temp_list.append(response['main']['temp_max'])\n",
    "        wind_speed_list.append(response[\"wind\"][\"speed\"])\n",
    "        if index_counter > 49:\n",
    "            index_counter = 0\n",
    "            set_counter = set_counter + 1\n",
    "    \n",
    "        else:\n",
    "            index_counter = index_counter + 1\n",
    "            \n",
    "        print(f\"Processing Record {index_counter} of Set {set_counter} : {city}\") \n",
    "        time.sleep(.1)\n",
    "    except(KeyError, IndexError):\n",
    "        print(\"City not found. Skipping...\")\n",
    "\n",
    "print(\"-----------------------------\")\n",
    "print(\"Data Retrieval Complete\")\n",
    "print(\"-----------------------------\")"
   ]
  },
  {
   "cell_type": "code",
   "execution_count": 9,
   "metadata": {
    "jupyter": {
     "source_hidden": true
    }
   },
   "outputs": [],
   "source": [
    "weather_dict = pd.DataFrame({ \n",
    "                \"City\" : city_name_list,\n",
    "                \"Cloudiness\" : cloudiness_list,\n",
    "                \"Country\" : country_list,\n",
    "                \"Date\" : date_list,\n",
    "                \"Humidity\" : humidity_list,\n",
    "                \"Lat\" : lat_list,\n",
    "                \"Lng\" : lng_list,\n",
    "                \"Max Temp\" : max_temp_list,\n",
    "                \"Wind Speed(mph)\" : wind_speed_list})"
   ]
  },
  {
   "cell_type": "code",
   "execution_count": 10,
   "metadata": {},
   "outputs": [
    {
     "data": {
      "text/plain": [
       "City               578\n",
       "Cloudiness         578\n",
       "Country            578\n",
       "Date               578\n",
       "Humidity           578\n",
       "Lat                578\n",
       "Lng                578\n",
       "Max Temp           578\n",
       "Wind Speed(mph)    578\n",
       "dtype: int64"
      ]
     },
     "execution_count": 10,
     "metadata": {},
     "output_type": "execute_result"
    }
   ],
   "source": [
    "# Count data\n",
    "weather_dict.count()"
   ]
  },
  {
   "cell_type": "code",
   "execution_count": 11,
   "metadata": {},
   "outputs": [
    {
     "data": {
      "text/html": [
       "<div>\n",
       "<style scoped>\n",
       "    .dataframe tbody tr th:only-of-type {\n",
       "        vertical-align: middle;\n",
       "    }\n",
       "\n",
       "    .dataframe tbody tr th {\n",
       "        vertical-align: top;\n",
       "    }\n",
       "\n",
       "    .dataframe thead th {\n",
       "        text-align: right;\n",
       "    }\n",
       "</style>\n",
       "<table border=\"1\" class=\"dataframe\">\n",
       "  <thead>\n",
       "    <tr style=\"text-align: right;\">\n",
       "      <th></th>\n",
       "      <th>City</th>\n",
       "      <th>Cloudiness</th>\n",
       "      <th>Country</th>\n",
       "      <th>Date</th>\n",
       "      <th>Humidity</th>\n",
       "      <th>Lat</th>\n",
       "      <th>Lng</th>\n",
       "      <th>Max Temp</th>\n",
       "      <th>Wind Speed(mph)</th>\n",
       "    </tr>\n",
       "  </thead>\n",
       "  <tbody>\n",
       "    <tr>\n",
       "      <th>0</th>\n",
       "      <td>Port Alfred</td>\n",
       "      <td>8</td>\n",
       "      <td>ZA</td>\n",
       "      <td>1613633446</td>\n",
       "      <td>78</td>\n",
       "      <td>-33.5906</td>\n",
       "      <td>26.8910</td>\n",
       "      <td>75.00</td>\n",
       "      <td>7.00</td>\n",
       "    </tr>\n",
       "    <tr>\n",
       "      <th>1</th>\n",
       "      <td>San Patricio</td>\n",
       "      <td>90</td>\n",
       "      <td>US</td>\n",
       "      <td>1613633446</td>\n",
       "      <td>100</td>\n",
       "      <td>28.0170</td>\n",
       "      <td>-97.5169</td>\n",
       "      <td>35.60</td>\n",
       "      <td>14.97</td>\n",
       "    </tr>\n",
       "    <tr>\n",
       "      <th>2</th>\n",
       "      <td>Kaitangata</td>\n",
       "      <td>98</td>\n",
       "      <td>NZ</td>\n",
       "      <td>1613633446</td>\n",
       "      <td>74</td>\n",
       "      <td>-46.2817</td>\n",
       "      <td>169.8464</td>\n",
       "      <td>61.00</td>\n",
       "      <td>1.99</td>\n",
       "    </tr>\n",
       "    <tr>\n",
       "      <th>3</th>\n",
       "      <td>Cedar City</td>\n",
       "      <td>1</td>\n",
       "      <td>US</td>\n",
       "      <td>1613633447</td>\n",
       "      <td>73</td>\n",
       "      <td>37.6775</td>\n",
       "      <td>-113.0619</td>\n",
       "      <td>23.00</td>\n",
       "      <td>3.44</td>\n",
       "    </tr>\n",
       "    <tr>\n",
       "      <th>4</th>\n",
       "      <td>San Isidro</td>\n",
       "      <td>0</td>\n",
       "      <td>PE</td>\n",
       "      <td>1613633447</td>\n",
       "      <td>83</td>\n",
       "      <td>-12.1167</td>\n",
       "      <td>-77.0500</td>\n",
       "      <td>71.01</td>\n",
       "      <td>4.61</td>\n",
       "    </tr>\n",
       "    <tr>\n",
       "      <th>...</th>\n",
       "      <td>...</td>\n",
       "      <td>...</td>\n",
       "      <td>...</td>\n",
       "      <td>...</td>\n",
       "      <td>...</td>\n",
       "      <td>...</td>\n",
       "      <td>...</td>\n",
       "      <td>...</td>\n",
       "      <td>...</td>\n",
       "    </tr>\n",
       "    <tr>\n",
       "      <th>573</th>\n",
       "      <td>Bandarbeyla</td>\n",
       "      <td>99</td>\n",
       "      <td>SO</td>\n",
       "      <td>1613633575</td>\n",
       "      <td>55</td>\n",
       "      <td>9.4942</td>\n",
       "      <td>50.8122</td>\n",
       "      <td>78.75</td>\n",
       "      <td>11.07</td>\n",
       "    </tr>\n",
       "    <tr>\n",
       "      <th>574</th>\n",
       "      <td>Marsassoum</td>\n",
       "      <td>96</td>\n",
       "      <td>SN</td>\n",
       "      <td>1613633575</td>\n",
       "      <td>64</td>\n",
       "      <td>12.8275</td>\n",
       "      <td>-15.9806</td>\n",
       "      <td>75.20</td>\n",
       "      <td>4.61</td>\n",
       "    </tr>\n",
       "    <tr>\n",
       "      <th>575</th>\n",
       "      <td>Hobyo</td>\n",
       "      <td>100</td>\n",
       "      <td>SO</td>\n",
       "      <td>1613633575</td>\n",
       "      <td>63</td>\n",
       "      <td>5.3505</td>\n",
       "      <td>48.5268</td>\n",
       "      <td>80.80</td>\n",
       "      <td>14.07</td>\n",
       "    </tr>\n",
       "    <tr>\n",
       "      <th>576</th>\n",
       "      <td>Pāsighāt</td>\n",
       "      <td>44</td>\n",
       "      <td>IN</td>\n",
       "      <td>1613633576</td>\n",
       "      <td>24</td>\n",
       "      <td>28.0667</td>\n",
       "      <td>95.3333</td>\n",
       "      <td>84.49</td>\n",
       "      <td>3.29</td>\n",
       "    </tr>\n",
       "    <tr>\n",
       "      <th>577</th>\n",
       "      <td>Puebloviejo</td>\n",
       "      <td>65</td>\n",
       "      <td>CO</td>\n",
       "      <td>1613633576</td>\n",
       "      <td>63</td>\n",
       "      <td>10.9938</td>\n",
       "      <td>-74.2844</td>\n",
       "      <td>80.01</td>\n",
       "      <td>18.99</td>\n",
       "    </tr>\n",
       "  </tbody>\n",
       "</table>\n",
       "<p>578 rows × 9 columns</p>\n",
       "</div>"
      ],
      "text/plain": [
       "             City  Cloudiness Country        Date  Humidity      Lat  \\\n",
       "0     Port Alfred           8      ZA  1613633446        78 -33.5906   \n",
       "1    San Patricio          90      US  1613633446       100  28.0170   \n",
       "2      Kaitangata          98      NZ  1613633446        74 -46.2817   \n",
       "3      Cedar City           1      US  1613633447        73  37.6775   \n",
       "4      San Isidro           0      PE  1613633447        83 -12.1167   \n",
       "..            ...         ...     ...         ...       ...      ...   \n",
       "573   Bandarbeyla          99      SO  1613633575        55   9.4942   \n",
       "574    Marsassoum          96      SN  1613633575        64  12.8275   \n",
       "575         Hobyo         100      SO  1613633575        63   5.3505   \n",
       "576      Pāsighāt          44      IN  1613633576        24  28.0667   \n",
       "577   Puebloviejo          65      CO  1613633576        63  10.9938   \n",
       "\n",
       "          Lng  Max Temp  Wind Speed(mph)  \n",
       "0     26.8910     75.00             7.00  \n",
       "1    -97.5169     35.60            14.97  \n",
       "2    169.8464     61.00             1.99  \n",
       "3   -113.0619     23.00             3.44  \n",
       "4    -77.0500     71.01             4.61  \n",
       "..        ...       ...              ...  \n",
       "573   50.8122     78.75            11.07  \n",
       "574  -15.9806     75.20             4.61  \n",
       "575   48.5268     80.80            14.07  \n",
       "576   95.3333     84.49             3.29  \n",
       "577  -74.2844     80.01            18.99  \n",
       "\n",
       "[578 rows x 9 columns]"
      ]
     },
     "execution_count": 11,
     "metadata": {},
     "output_type": "execute_result"
    }
   ],
   "source": [
    "# Display the Data Frame\n",
    "weather_dict"
   ]
  },
  {
   "cell_type": "code",
   "execution_count": 12,
   "metadata": {},
   "outputs": [],
   "source": [
    "# Save city data into a csv file\n",
    "weather_dict.to_csv(\"output_data/cities.csv\", index = False)\n"
   ]
  },
  {
   "cell_type": "markdown",
   "metadata": {},
   "source": [
    "## Inspect the data and remove the cities where the humidity > 100%.\n",
    "----\n",
    "Skip this step if there are no cities that have humidity > 100%. "
   ]
  },
  {
   "cell_type": "code",
   "execution_count": 13,
   "metadata": {},
   "outputs": [
    {
     "data": {
      "text/html": [
       "<div>\n",
       "<style scoped>\n",
       "    .dataframe tbody tr th:only-of-type {\n",
       "        vertical-align: middle;\n",
       "    }\n",
       "\n",
       "    .dataframe tbody tr th {\n",
       "        vertical-align: top;\n",
       "    }\n",
       "\n",
       "    .dataframe thead th {\n",
       "        text-align: right;\n",
       "    }\n",
       "</style>\n",
       "<table border=\"1\" class=\"dataframe\">\n",
       "  <thead>\n",
       "    <tr style=\"text-align: right;\">\n",
       "      <th></th>\n",
       "      <th>City</th>\n",
       "      <th>Cloudiness</th>\n",
       "      <th>Country</th>\n",
       "      <th>Date</th>\n",
       "      <th>Humidity</th>\n",
       "      <th>Lat</th>\n",
       "      <th>Lng</th>\n",
       "      <th>Max Temp</th>\n",
       "      <th>Wind Speed(mph)</th>\n",
       "    </tr>\n",
       "  </thead>\n",
       "  <tbody>\n",
       "    <tr>\n",
       "      <th>0</th>\n",
       "      <td>Port Alfred</td>\n",
       "      <td>8</td>\n",
       "      <td>ZA</td>\n",
       "      <td>1613633446</td>\n",
       "      <td>78</td>\n",
       "      <td>-33.5906</td>\n",
       "      <td>26.8910</td>\n",
       "      <td>75.00</td>\n",
       "      <td>7.00</td>\n",
       "    </tr>\n",
       "    <tr>\n",
       "      <th>1</th>\n",
       "      <td>San Patricio</td>\n",
       "      <td>90</td>\n",
       "      <td>US</td>\n",
       "      <td>1613633446</td>\n",
       "      <td>100</td>\n",
       "      <td>28.0170</td>\n",
       "      <td>-97.5169</td>\n",
       "      <td>35.60</td>\n",
       "      <td>14.97</td>\n",
       "    </tr>\n",
       "    <tr>\n",
       "      <th>2</th>\n",
       "      <td>Kaitangata</td>\n",
       "      <td>98</td>\n",
       "      <td>NZ</td>\n",
       "      <td>1613633446</td>\n",
       "      <td>74</td>\n",
       "      <td>-46.2817</td>\n",
       "      <td>169.8464</td>\n",
       "      <td>61.00</td>\n",
       "      <td>1.99</td>\n",
       "    </tr>\n",
       "    <tr>\n",
       "      <th>3</th>\n",
       "      <td>Cedar City</td>\n",
       "      <td>1</td>\n",
       "      <td>US</td>\n",
       "      <td>1613633447</td>\n",
       "      <td>73</td>\n",
       "      <td>37.6775</td>\n",
       "      <td>-113.0619</td>\n",
       "      <td>23.00</td>\n",
       "      <td>3.44</td>\n",
       "    </tr>\n",
       "    <tr>\n",
       "      <th>4</th>\n",
       "      <td>San Isidro</td>\n",
       "      <td>0</td>\n",
       "      <td>PE</td>\n",
       "      <td>1613633447</td>\n",
       "      <td>83</td>\n",
       "      <td>-12.1167</td>\n",
       "      <td>-77.0500</td>\n",
       "      <td>71.01</td>\n",
       "      <td>4.61</td>\n",
       "    </tr>\n",
       "    <tr>\n",
       "      <th>...</th>\n",
       "      <td>...</td>\n",
       "      <td>...</td>\n",
       "      <td>...</td>\n",
       "      <td>...</td>\n",
       "      <td>...</td>\n",
       "      <td>...</td>\n",
       "      <td>...</td>\n",
       "      <td>...</td>\n",
       "      <td>...</td>\n",
       "    </tr>\n",
       "    <tr>\n",
       "      <th>573</th>\n",
       "      <td>Bandarbeyla</td>\n",
       "      <td>99</td>\n",
       "      <td>SO</td>\n",
       "      <td>1613633575</td>\n",
       "      <td>55</td>\n",
       "      <td>9.4942</td>\n",
       "      <td>50.8122</td>\n",
       "      <td>78.75</td>\n",
       "      <td>11.07</td>\n",
       "    </tr>\n",
       "    <tr>\n",
       "      <th>574</th>\n",
       "      <td>Marsassoum</td>\n",
       "      <td>96</td>\n",
       "      <td>SN</td>\n",
       "      <td>1613633575</td>\n",
       "      <td>64</td>\n",
       "      <td>12.8275</td>\n",
       "      <td>-15.9806</td>\n",
       "      <td>75.20</td>\n",
       "      <td>4.61</td>\n",
       "    </tr>\n",
       "    <tr>\n",
       "      <th>575</th>\n",
       "      <td>Hobyo</td>\n",
       "      <td>100</td>\n",
       "      <td>SO</td>\n",
       "      <td>1613633575</td>\n",
       "      <td>63</td>\n",
       "      <td>5.3505</td>\n",
       "      <td>48.5268</td>\n",
       "      <td>80.80</td>\n",
       "      <td>14.07</td>\n",
       "    </tr>\n",
       "    <tr>\n",
       "      <th>576</th>\n",
       "      <td>Pāsighāt</td>\n",
       "      <td>44</td>\n",
       "      <td>IN</td>\n",
       "      <td>1613633576</td>\n",
       "      <td>24</td>\n",
       "      <td>28.0667</td>\n",
       "      <td>95.3333</td>\n",
       "      <td>84.49</td>\n",
       "      <td>3.29</td>\n",
       "    </tr>\n",
       "    <tr>\n",
       "      <th>577</th>\n",
       "      <td>Puebloviejo</td>\n",
       "      <td>65</td>\n",
       "      <td>CO</td>\n",
       "      <td>1613633576</td>\n",
       "      <td>63</td>\n",
       "      <td>10.9938</td>\n",
       "      <td>-74.2844</td>\n",
       "      <td>80.01</td>\n",
       "      <td>18.99</td>\n",
       "    </tr>\n",
       "  </tbody>\n",
       "</table>\n",
       "<p>578 rows × 9 columns</p>\n",
       "</div>"
      ],
      "text/plain": [
       "             City  Cloudiness Country        Date  Humidity      Lat  \\\n",
       "0     Port Alfred           8      ZA  1613633446        78 -33.5906   \n",
       "1    San Patricio          90      US  1613633446       100  28.0170   \n",
       "2      Kaitangata          98      NZ  1613633446        74 -46.2817   \n",
       "3      Cedar City           1      US  1613633447        73  37.6775   \n",
       "4      San Isidro           0      PE  1613633447        83 -12.1167   \n",
       "..            ...         ...     ...         ...       ...      ...   \n",
       "573   Bandarbeyla          99      SO  1613633575        55   9.4942   \n",
       "574    Marsassoum          96      SN  1613633575        64  12.8275   \n",
       "575         Hobyo         100      SO  1613633575        63   5.3505   \n",
       "576      Pāsighāt          44      IN  1613633576        24  28.0667   \n",
       "577   Puebloviejo          65      CO  1613633576        63  10.9938   \n",
       "\n",
       "          Lng  Max Temp  Wind Speed(mph)  \n",
       "0     26.8910     75.00             7.00  \n",
       "1    -97.5169     35.60            14.97  \n",
       "2    169.8464     61.00             1.99  \n",
       "3   -113.0619     23.00             3.44  \n",
       "4    -77.0500     71.01             4.61  \n",
       "..        ...       ...              ...  \n",
       "573   50.8122     78.75            11.07  \n",
       "574  -15.9806     75.20             4.61  \n",
       "575   48.5268     80.80            14.07  \n",
       "576   95.3333     84.49             3.29  \n",
       "577  -74.2844     80.01            18.99  \n",
       "\n",
       "[578 rows x 9 columns]"
      ]
     },
     "execution_count": 13,
     "metadata": {},
     "output_type": "execute_result"
    }
   ],
   "source": [
    "weather_dict= weather_dict.loc[weather_dict[\"City\"] != \"Failed!!!\"]\n",
    "\n",
    "weather_dict"
   ]
  },
  {
   "cell_type": "code",
   "execution_count": 14,
   "metadata": {},
   "outputs": [
    {
     "name": "stdout",
     "output_type": "stream",
     "text": [
      "The maximum humidity value is 100%, so there are no values greater than 100% in our data!\n"
     ]
    },
    {
     "data": {
      "text/plain": [
       "count    578.000000\n",
       "mean      71.441176\n",
       "std       21.366591\n",
       "min       14.000000\n",
       "25%       61.250000\n",
       "50%       77.000000\n",
       "75%       87.750000\n",
       "max      100.000000\n",
       "Name: Humidity, dtype: float64"
      ]
     },
     "execution_count": 14,
     "metadata": {},
     "output_type": "execute_result"
    }
   ],
   "source": [
    "clean_city_data = weather_dict[\"Humidity\"].describe(include = \"all\")\n",
    "print(\"The maximum humidity value is 100%, so there are no values greater than 100% in our data!\")\n",
    "clean_city_data"
   ]
  },
  {
   "cell_type": "markdown",
   "metadata": {},
   "source": [
    "## Plotting the Data\n",
    "* Use proper labeling of the plots using plot titles (including date of analysis) and axes labels.\n",
    "* Save the plotted figures as .pngs."
   ]
  },
  {
   "cell_type": "markdown",
   "metadata": {},
   "source": [
    "## Latitude vs. Temperature Plot"
   ]
  },
  {
   "cell_type": "markdown",
   "metadata": {},
   "source": [
    "## Latitude vs. Humidity Plot"
   ]
  },
  {
   "cell_type": "code",
   "execution_count": 70,
   "metadata": {},
   "outputs": [
    {
     "name": "stdout",
     "output_type": "stream",
     "text": [
      "Highest temperature is found at 0 latitude and as the latidude increases or decreases, temperature drops.\n"
     ]
    },
    {
     "data": {
      "image/png": "[encoded data removed]",
      "text/plain": [
       "<Figure size 432x288 with 1 Axes>"
      ]
     },
     "metadata": {
      "needs_background": "light"
     },
     "output_type": "display_data"
    }
   ],
   "source": [
    "# Create Latitude vs. Temperature Plot scatter plot\n",
    "print(f'Highest temperature is found at 0 latitude and as the latidude increases or decreases, temperature drops.')\n",
    "plt.scatter(weather_dict[\"Lat\"], weather_dict[\"Max Temp\"], facecolor = \"blue\", edgecolor = \"black\")\n",
    "plt.title(\"City Latitude vs. Max Temperature (01/17/20)\")\n",
    "plt.xlabel(\"Laitude\")\n",
    "plt.ylabel(\"Max Temperature (F)\")\n",
    "plt.grid(linestyle='-', linewidth=1, alpha = 0.5)\n",
    "\n",
    "plt.savefig(\"../Images/City Latitude vs Max Temperature.png\")\n"
   ]
  },
  {
   "cell_type": "code",
   "execution_count": 69,
   "metadata": {},
   "outputs": [
    {
     "name": "stdout",
     "output_type": "stream",
     "text": [
      "Polar regions have lower humidity and as latitude gets higher,humidity gets higher in southern hemispher.\n"
     ]
    },
    {
     "data": {
      "image/png": "[encoded data removed]",
      "text/plain": [
       "<Figure size 432x288 with 1 Axes>"
      ]
     },
     "metadata": {
      "needs_background": "light"
     },
     "output_type": "display_data"
    }
   ],
   "source": [
    "# Create Latitude vs. Humidity Plot scatter plot\n",
    "print(f'Polar regions have lower humidity and as latitude gets higher,humidity gets higher in southern hemispher.')\n",
    "plt.scatter(weather_dict[\"Lat\"], weather_dict[\"Humidity\"], facecolor = \"blue\", edgecolor = \"black\")\n",
    "plt.title(\"City Latitude vs. Humidity (01/17/20)\")\n",
    "plt.xlabel(\"Laitude\")\n",
    "plt.ylabel(\"Humidity (%)\")\n",
    "plt.grid(linestyle='-', linewidth=1, alpha = 0.5)\n",
    "\n",
    "plt.savefig(\"../Images/City Latitude vs Humidity.png\")"
   ]
  },
  {
   "cell_type": "markdown",
   "metadata": {},
   "source": [
    "## Latitude vs. Cloudiness Plot"
   ]
  },
  {
   "cell_type": "code",
   "execution_count": 68,
   "metadata": {},
   "outputs": [
    {
     "name": "stdout",
     "output_type": "stream",
     "text": [
      "Cloudiness data is more scattered across the latitude.\n"
     ]
    },
    {
     "data": {
      "image/png": "[encoded data removed]",
      "text/plain": [
       "<Figure size 432x288 with 1 Axes>"
      ]
     },
     "metadata": {
      "needs_background": "light"
     },
     "output_type": "display_data"
    }
   ],
   "source": [
    "# Create Latitude vs. Cloudiness Plot scatter plot\n",
    "print(f'Cloudiness data is more scattered across the latitude.')\n",
    "plt.scatter(weather_dict[\"Lat\"], weather_dict[\"Cloudiness\"], facecolor = \"blue\", edgecolor = \"black\")\n",
    "plt.title(\"City Latitude vs. Cloudiness (01/17/20)\")\n",
    "plt.xlabel(\"Laitude\")\n",
    "plt.ylabel(\"Cloudiness (%)\")\n",
    "plt.ylim(-5,105)\n",
    "plt.grid(linestyle='-', linewidth=1, alpha = 0.5)\n",
    "\n",
    "plt.savefig(\"../Images/City Latitude vs Cloudiness.png\")\n"
   ]
  },
  {
   "cell_type": "markdown",
   "metadata": {},
   "source": [
    "## Latitude vs. Wind Speed Plot"
   ]
  },
  {
   "cell_type": "code",
   "execution_count": 66,
   "metadata": {},
   "outputs": [
    {
     "name": "stdout",
     "output_type": "stream",
     "text": [
      "Wind speed data is widely scattered across the latitude.\n"
     ]
    },
    {
     "data": {
      "image/png": "[encoded data removed]",
      "text/plain": [
       "<Figure size 432x288 with 1 Axes>"
      ]
     },
     "metadata": {
      "needs_background": "light"
     },
     "output_type": "display_data"
    }
   ],
   "source": [
    "# Create Latitude vs. Wind Speed scatter plot\n",
    "print(f'Wind speed data is widely scattered across the latitude.')\n",
    "plt.scatter(weather_dict[\"Lat\"], weather_dict[\"Wind Speed(mph)\"], facecolor = \"blue\", edgecolor = \"black\")\n",
    "plt.title(\"City Latitude vs. Wind Speed (mph) (01/17/20)\")\n",
    "plt.xlabel(\"Laitude\")\n",
    "plt.ylabel(\"Wind Speed(mph) (%)\")\n",
    "plt.ylim(-2,50)\n",
    "plt.grid(linestyle='-', linewidth=1, alpha = 0.5)\n",
    "\n",
    "plt.savefig(\"../Images/City Latitude vs Wind Speed(mph).png\")"
   ]
  },
  {
   "cell_type": "raw",
   "metadata": {},
   "source": [
    "## Linear Regression"
   ]
  },
  {
   "cell_type": "code",
   "execution_count": 31,
   "metadata": {},
   "outputs": [],
   "source": [
    "# Create Northern and Southern Hemisphere DataFrames\n",
    "# Create Northern and Southern Hemisphere DataFrames\n",
    "northern_hemisphere = weather_dict.loc[weather_dict[\"Lat\"] >= 0]\n",
    "southern_hemisphere = weather_dict.loc[weather_dict[\"Lat\"] < 0]"
   ]
  },
  {
   "cell_type": "code",
   "execution_count": 32,
   "metadata": {},
   "outputs": [],
   "source": [
    "# Define function for creating linear agression and scatter plot\n",
    "def linear_agression(x,y):\n",
    "    print(f\"The r-squared is : {round(st.pearsonr(x, y)[0],2)}\")\n",
    "    (slope, intercept, rvalue, pvalue, stderr) = linregress(x, y)\n",
    "    regress_values = x * slope + intercept\n",
    "    line_eq = \"y = \" + str(round(slope,2)) + \"x + \" + str(round(intercept,2))\n",
    "    plt.scatter(x, y)\n",
    "    plt.plot(x,regress_values,\"r-\")\n",
    "    return line_eq\n",
    "\n",
    "# Define a fuction for annotating\n",
    "def annotate(line_eq, a, b):\n",
    "    plt.annotate(line_eq,(a,b),fontsize=15,color=\"red\")"
   ]
  },
  {
   "cell_type": "markdown",
   "metadata": {},
   "source": [
    "####  Northern Hemisphere - Max Temp vs. Latitude Linear Regression"
   ]
  },
  {
   "cell_type": "code",
   "execution_count": 61,
   "metadata": {},
   "outputs": [
    {
     "name": "stdout",
     "output_type": "stream",
     "text": [
      "There is a strong negative correlation between Latitude and Max temperature for northern hemisphere.\n",
      "The r-squared is: 0.776181624292718\n"
     ]
    },
    {
     "data": {
      "image/png": "[encoded data removed]",
      "text/plain": [
       "<Figure size 432x288 with 1 Axes>"
      ]
     },
     "metadata": {
      "needs_background": "light"
     },
     "output_type": "display_data"
    },
    {
     "data": {
      "text/plain": [
       "<Figure size 432x288 with 0 Axes>"
      ]
     },
     "metadata": {},
     "output_type": "display_data"
    }
   ],
   "source": [
    "x = northern_hemisphere[\"Max Temp\"]\n",
    "y = northern_hemisphere[\"Lat\"]\n",
    "(slope, intercept, rvalue, pvalue, stderr) = linregress(x, y)\n",
    "regress_values = x * slope + intercept\n",
    "line_eq = \"y = \" + str(round(slope,2)) + \"x + \" + str(round(intercept,2))\n",
    "\n",
    "print('There is a strong negative correlation between Latitude and Max temperature for northern hemisphere.')\n",
    "\n",
    "plt.scatter(x,y,facecolor = \"blue\", edgecolor = \"black\")\n",
    "plt.plot(x,regress_values,\"r-\")\n",
    "plt.annotate(line_eq,(-20,10),fontsize=12,color=\"red\")\n",
    "\n",
    "plt.xlabel(\"Latitude\")\n",
    "plt.ylabel(\"Max Temp (F)\")\n",
    "print(f\"The r-squared is: {rvalue**2}\")\n",
    "plt.title(\"Northern Hemisphere - Max Temp vs. Latitude Linear Regression\",fontsize=16,color=\"navy\",pad=20)\n",
    "plt.show()\n",
    "plt.savefig(\"../Images/Northern Hemisphere - Max Temp vs. Latitude Linear Regression.png\")"
   ]
  },
  {
   "cell_type": "markdown",
   "metadata": {},
   "source": [
    "####  Northern Hemisphere - Humidity (%) vs. Latitude Linear Regression"
   ]
  },
  {
   "cell_type": "code",
   "execution_count": 46,
   "metadata": {},
   "outputs": [
    {
     "name": "stdout",
     "output_type": "stream",
     "text": [
      "There is a moderate positive correlation between latitude and humidity for northern hemisphere.\n",
      "The r-squared is: 0.16016674336913797\n"
     ]
    },
    {
     "data": {
      "image/png": "[encoded data removed]",
      "text/plain": [
       "<Figure size 432x288 with 1 Axes>"
      ]
     },
     "metadata": {
      "needs_background": "light"
     },
     "output_type": "display_data"
    },
    {
     "data": {
      "text/plain": [
       "<Figure size 432x288 with 0 Axes>"
      ]
     },
     "metadata": {},
     "output_type": "display_data"
    }
   ],
   "source": [
    "# Northern Hemisphere - Humidity (%) vs. Latitude Linear Regression\n",
    "x = northern_hemisphere[\"Humidity\"]\n",
    "y = northern_hemisphere[\"Lat\"]\n",
    "(slope, intercept, rvalue, pvalue, stderr) = linregress(x, y)\n",
    "regress_values = x * slope + intercept\n",
    "line_eq = \"y = \" + str(round(slope,2)) + \"x + \" + str(round(intercept,2))\n",
    "print(f'There is a moderate positive correlation between latitude and humidity for northern hemisphere.')\n",
    "\n",
    "plt.scatter(x,y,facecolor = \"blue\", edgecolor = \"black\")\n",
    "plt.plot(x,regress_values,\"r-\")\n",
    "plt.annotate(line_eq,(15,70),fontsize=12,color=\"red\")\n",
    "\n",
    "plt.xlabel(\"Humidity\")\n",
    "plt.ylabel(\"Latitude\")\n",
    "print(f\"The r-squared is: {rvalue**2}\")\n",
    "plt.title(\"Northern Hemisphere - Humidity vs. Latitude Linear Regression\",fontsize=16,color=\"navy\",pad=20)\n",
    "plt.show()\n",
    "plt.savefig(\"../Images/Northern Hemisphere - Humidity vs. Latitude Linear Regression.png\")\n"
   ]
  },
  {
   "cell_type": "markdown",
   "metadata": {},
   "source": [
    "####  Southern Hemisphere - Humidity (%) vs. Latitude Linear Regression"
   ]
  },
  {
   "cell_type": "code",
   "execution_count": 48,
   "metadata": {},
   "outputs": [
    {
     "name": "stdout",
     "output_type": "stream",
     "text": [
      "There is a moderate positive correlation between latitude and humidity for southern hemisphere.\n",
      "The r-squared is: 0.11098165160083395\n"
     ]
    },
    {
     "data": {
      "image/png": "[encoded data removed]",
      "text/plain": [
       "<Figure size 432x288 with 1 Axes>"
      ]
     },
     "metadata": {
      "needs_background": "light"
     },
     "output_type": "display_data"
    },
    {
     "data": {
      "text/plain": [
       "<Figure size 432x288 with 0 Axes>"
      ]
     },
     "metadata": {},
     "output_type": "display_data"
    }
   ],
   "source": [
    "x = southern_hemisphere[\"Humidity\"]\n",
    "y = southern_hemisphere[\"Lat\"]\n",
    "(slope, intercept, rvalue, pvalue, stderr) = linregress(x, y)\n",
    "regress_values = x * slope + intercept\n",
    "line_eq = \"y = \" + str(round(slope,2)) + \"x + \" + str(round(intercept,2))\n",
    "\n",
    "print(f'There is a moderate positive correlation between latitude and humidity for southern hemisphere.')\n",
    "\n",
    "plt.scatter(x,y,facecolor = \"blue\", edgecolor = \"black\")\n",
    "plt.plot(x,regress_values,\"r-\")\n",
    "plt.annotate(line_eq,(20,-5),fontsize=12,color=\"red\")\n",
    "\n",
    "plt.xlabel(\"Humidity\")\n",
    "plt.ylabel(\"Latitude\")\n",
    "print(f\"The r-squared is: {rvalue**2}\")\n",
    "plt.title(\"Southern Hemisphere - Humidity vs. Latitude Linear Regression\",fontsize=16,color=\"navy\",pad=20)\n",
    "plt.show()\n",
    "plt.savefig(\"../Images/Southern Hemisphere - Humidity vs. Latitude Linear Regression.png\")\n"
   ]
  },
  {
   "cell_type": "markdown",
   "metadata": {},
   "source": [
    "####  Northern Hemisphere - Cloudiness (%) vs. Latitude Linear Regression"
   ]
  },
  {
   "cell_type": "code",
   "execution_count": 49,
   "metadata": {},
   "outputs": [
    {
     "name": "stdout",
     "output_type": "stream",
     "text": [
      "There is a weak positive correlation between latitude and cloudiness for northern hemisphere.\n",
      "The r-squared is: 0.019478729536341326\n"
     ]
    },
    {
     "data": {
      "image/png": "[encoded data removed]",
      "text/plain": [
       "<Figure size 432x288 with 1 Axes>"
      ]
     },
     "metadata": {
      "needs_background": "light"
     },
     "output_type": "display_data"
    },
    {
     "data": {
      "text/plain": [
       "<Figure size 432x288 with 0 Axes>"
      ]
     },
     "metadata": {},
     "output_type": "display_data"
    }
   ],
   "source": [
    "x = northern_hemisphere[\"Cloudiness\"]\n",
    "y = northern_hemisphere[\"Lat\"]\n",
    "(slope, intercept, rvalue, pvalue, stderr) = linregress(x, y)\n",
    "regress_values = x * slope + intercept\n",
    "line_eq = \"y = \" + str(round(slope,2)) + \"x + \" + str(round(intercept,2))\n",
    "print(f'There is a weak positive correlation between latitude and cloudiness for northern hemisphere.')\n",
    "\n",
    "plt.scatter(x,y,facecolor = \"blue\", edgecolor = \"black\")\n",
    "plt.plot(x,regress_values,\"r-\")\n",
    "plt.annotate(line_eq,(23,75),fontsize=12,color=\"red\")\n",
    "\n",
    "plt.xlabel(\"Cloudiness \")\n",
    "plt.ylabel(\"Latitude\")\n",
    "print(f\"The r-squared is: {rvalue**2}\")\n",
    "plt.title(\"Northern Hemisphere - Cloudiness vs. Latitude Linear Regression\",fontsize=16,color=\"blue\",pad=20)\n",
    "plt.show()\n",
    "plt.savefig(\"../Images/Northern Hemisphere - Cloudiness vs. Latitude Linear Regression.png\")\n"
   ]
  },
  {
   "cell_type": "markdown",
   "metadata": {},
   "source": [
    "####  Southern Hemisphere - Cloudiness (%) vs. Latitude Linear Regression"
   ]
  },
  {
   "cell_type": "code",
   "execution_count": 50,
   "metadata": {},
   "outputs": [
    {
     "name": "stdout",
     "output_type": "stream",
     "text": [
      "There is a weak positive correlation between latitude and cloudiness for northern hemisphere.\n",
      "The r-squared is: 0.16700664294662343\n"
     ]
    },
    {
     "data": {
      "image/png": "[encoded data removed]",
      "text/plain": [
       "<Figure size 432x288 with 1 Axes>"
      ]
     },
     "metadata": {
      "needs_background": "light"
     },
     "output_type": "display_data"
    },
    {
     "data": {
      "text/plain": [
       "<Figure size 432x288 with 0 Axes>"
      ]
     },
     "metadata": {},
     "output_type": "display_data"
    }
   ],
   "source": [
    "x = southern_hemisphere[\"Cloudiness\"]\n",
    "y = southern_hemisphere[\"Lat\"]\n",
    "(slope, intercept, rvalue, pvalue, stderr) = linregress(x, y)\n",
    "regress_values = x * slope + intercept\n",
    "line_eq = \"y = \" + str(round(slope,2)) + \"x + \" + str(round(intercept,2))\n",
    "\n",
    "print(f'There is a weak positive correlation between latitude and cloudiness for northern hemisphere.')\n",
    "\n",
    "plt.scatter(x,y,facecolor = \"blue\", edgecolor = \"black\")\n",
    "plt.plot(x,regress_values,\"r-\")\n",
    "plt.annotate(line_eq,(20,-55),fontsize=12,color=\"red\")\n",
    "\n",
    "plt.xlabel(\"Cloudiness\")\n",
    "plt.ylabel(\"Latitude\")\n",
    "print(f\"The r-squared is: {rvalue**2}\")\n",
    "plt.title(\"Southern Hemisphere - Cloudiness vs. Latitude Linear Regression\",fontsize=16,color=\"navy\",pad=20)\n",
    "plt.show()\n",
    "plt.savefig(\"../Images/Southern Hemisphere - Cloudiness vs. Latitude Linear Regression.png\")\n"
   ]
  },
  {
   "cell_type": "markdown",
   "metadata": {},
   "source": [
    "####  Northern Hemisphere - Wind Speed (mph) vs. Latitude Linear Regression"
   ]
  },
  {
   "cell_type": "code",
   "execution_count": 51,
   "metadata": {},
   "outputs": [
    {
     "name": "stdout",
     "output_type": "stream",
     "text": [
      "There is a weak negative correlation between latitude and windspeed for northern hemisphere.\n",
      "The r-squared is: 0.023088644551368154\n"
     ]
    },
    {
     "data": {
      "image/png": "[encoded data removed]",
      "text/plain": [
       "<Figure size 432x288 with 1 Axes>"
      ]
     },
     "metadata": {
      "needs_background": "light"
     },
     "output_type": "display_data"
    },
    {
     "data": {
      "text/plain": [
       "<Figure size 432x288 with 0 Axes>"
      ]
     },
     "metadata": {},
     "output_type": "display_data"
    }
   ],
   "source": [
    "x = northern_hemisphere[\"Wind Speed(mph)\"]\n",
    "y = northern_hemisphere[\"Lat\"]\n",
    "(slope, intercept, rvalue, pvalue, stderr) = linregress(x, y)\n",
    "regress_values = x * slope + intercept\n",
    "line_eq = \"y = \" + str(round(slope,2)) + \"x + \" + str(round(intercept,2))\n",
    "print(f'There is a weak negative correlation between latitude and windspeed for northern hemisphere.')\n",
    "\n",
    "plt.scatter(x,y,facecolor = \"blue\", edgecolor = \"black\")\n",
    "plt.plot(x,regress_values,\"r-\")\n",
    "plt.annotate(line_eq,(22,0),fontsize=12,color=\"red\")\n",
    "\n",
    "plt.xlabel(\"Wind Speed \")\n",
    "plt.ylabel(\"Latitude\")\n",
    "print(f\"The r-squared is: {rvalue**2}\")\n",
    "plt.title(\"Northern Hemisphere - Wind Speed (mph) vs. Latitude Linear Regression\",fontsize=16,color=\"navy\",pad=20)\n",
    "plt.show()\n",
    "plt.savefig(\"../Images/Northern Hemisphere - Wind Speed (mph) vs. Latitude Linear Regression.png\")\n"
   ]
  },
  {
   "cell_type": "markdown",
   "metadata": {},
   "source": [
    "####  Southern Hemisphere - Wind Speed (mph) vs. Latitude Linear Regression"
   ]
  },
  {
   "cell_type": "code",
   "execution_count": 57,
   "metadata": {},
   "outputs": [
    {
     "name": "stdout",
     "output_type": "stream",
     "text": [
      "There is a weak negative correlation between wind speed and latitudefor southern hemisphere.\n",
      "The r-squared is: 0.056139423154410895\n"
     ]
    },
    {
     "data": {
      "image/png": "[encoded data removed]",
      "text/plain": [
       "<Figure size 432x288 with 1 Axes>"
      ]
     },
     "metadata": {
      "needs_background": "light"
     },
     "output_type": "display_data"
    },
    {
     "data": {
      "text/plain": [
       "<Figure size 432x288 with 0 Axes>"
      ]
     },
     "metadata": {},
     "output_type": "display_data"
    }
   ],
   "source": [
    "x = southern_hemisphere[\"Wind Speed(mph)\"]\n",
    "y = southern_hemisphere[\"Lat\"]\n",
    "(slope, intercept, rvalue, pvalue, stderr) = linregress(x, y)\n",
    "regress_values = x * slope + intercept\n",
    "line_eq = \"y = \" + str(round(slope,2)) + \"x + \" + str(round(intercept,2))\n",
    "\n",
    "print(f'There is a weak negative correlation between wind speed and latitudefor southern hemisphere.')\n",
    "\n",
    "plt.scatter(x,y,facecolor = \"blue\", edgecolor = \"black\")\n",
    "plt.plot(x,regress_values,\"r-\")\n",
    "plt.annotate(line_eq,(15,-53),fontsize=12,color=\"red\")\n",
    "\n",
    "plt.xlabel(\"Wind Speed(mph)\")\n",
    "plt.ylabel(\"Latitude\")\n",
    "print(f\"The r-squared is: {rvalue**2}\")\n",
    "plt.title(\"Southern Hemisphere - Wind Speed(mph) vs. Latitude Linear Regression\",fontsize=16,color=\"navy\",pad=20)\n",
    "plt.show()\n",
    "plt.savefig(\"../Images/Southern Hemisphere - Wind Speed(mph) vs. Latitude Linear Regression.png\")\n"
   ]
  },
  {
   "cell_type": "code",
   "execution_count": null,
   "metadata": {},
   "outputs": [],
   "source": []
  }
 ],
 "metadata": {
  "anaconda-cloud": {},
  "kernel_info": {
   "name": "python3"
  },
  "kernelspec": {
   "display_name": "Python 3",
   "language": "python",
   "name": "python3"
  },
  "language_info": {
   "codemirror_mode": {
    "name": "ipython",
    "version": 3
   },
   "file_extension": ".py",
   "mimetype": "text/x-python",
   "name": "python",
   "nbconvert_exporter": "python",
   "pygments_lexer": "ipython3",
   "version": "3.8.5"
  },
  "latex_envs": {
   "LaTeX_envs_menu_present": true,
   "autoclose": false,
   "autocomplete": true,
   "bibliofile": "biblio.bib",
   "cite_by": "apalike",
   "current_citInitial": 1,
   "eqLabelWithNumbers": true,
   "eqNumInitial": 1,
   "hotkeys": {
    "equation": "Ctrl-E",
    "itemize": "Ctrl-I"
   },
   "labels_anchors": false,
   "latex_user_defs": false,
   "report_style_numbering": false,
   "user_envs_cfg": false
  },
  "nteract": {
   "version": "0.12.3"
  }
 },
 "nbformat": 4,
 "nbformat_minor": 4
}
